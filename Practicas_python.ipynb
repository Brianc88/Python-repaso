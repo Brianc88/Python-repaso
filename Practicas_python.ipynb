{
  "nbformat": 4,
  "nbformat_minor": 0,
  "metadata": {
    "colab": {
      "provenance": [],
      "toc_visible": true,
      "authorship_tag": "ABX9TyPjIv6K5jlcGW8GdXRKqBRC",
      "include_colab_link": true
    },
    "kernelspec": {
      "name": "python3",
      "display_name": "Python 3"
    },
    "language_info": {
      "name": "python"
    }
  },
  "cells": [
    {
      "cell_type": "markdown",
      "metadata": {
        "id": "view-in-github",
        "colab_type": "text"
      },
      "source": [
        "<a href=\"https://colab.research.google.com/github/Brianc88/Python-repaso/blob/main/Practicas_python.ipynb\" target=\"_parent\"><img src=\"https://colab.research.google.com/assets/colab-badge.svg\" alt=\"Open In Colab\"/></a>"
      ]
    },
    {
      "cell_type": "code",
      "execution_count": null,
      "metadata": {
        "colab": {
          "base_uri": "https://localhost:8080/"
        },
        "id": "iq5-vDE7QZ2V",
        "outputId": "d5cd1c94-8890-45eb-e62b-1ae44480e90a"
      },
      "outputs": [
        {
          "output_type": "stream",
          "name": "stdout",
          "text": [
            "Hola mundo\n",
            "Nombre:  Brian Edad: 36 Altura: 12.8 Estado False\n"
          ]
        }
      ],
      "source": [
        "print (\"Hola mundo\")\n",
        "\n",
        "nombre = \"Brian\"\n",
        "edad = 36\n",
        "altura  = 12.80\n",
        "es_estudiante = False\n",
        "\n",
        "print (\"Nombre: \",nombre, \"Edad:\", edad, \"Altura:\", altura,\"Estado\", es_estudiante )"
      ]
    },
    {
      "cell_type": "code",
      "source": [],
      "metadata": {
        "id": "n5zK_7zC4Ixs"
      },
      "execution_count": null,
      "outputs": []
    },
    {
      "cell_type": "markdown",
      "source": [],
      "metadata": {
        "id": "pzOmom6T4TH3"
      }
    },
    {
      "cell_type": "code",
      "source": [
        "nombre = input(\"Digite su nombre\")\n",
        "edad = input(\"Digite su edad\")\n",
        "print (\"Nombre: \",nombre, \"Edad:\", edad)"
      ],
      "metadata": {
        "colab": {
          "base_uri": "https://localhost:8080/",
          "height": 338
        },
        "id": "LwZnfKs4Rhbk",
        "outputId": "c5fce67d-c528-48b9-e7e8-8455886076ef"
      },
      "execution_count": null,
      "outputs": [
        {
          "output_type": "error",
          "ename": "KeyboardInterrupt",
          "evalue": "Interrupted by user",
          "traceback": [
            "\u001b[0;31m---------------------------------------------------------------------------\u001b[0m",
            "\u001b[0;31mKeyboardInterrupt\u001b[0m                         Traceback (most recent call last)",
            "\u001b[0;32m/tmp/ipython-input-2015627069.py\u001b[0m in \u001b[0;36m<cell line: 0>\u001b[0;34m()\u001b[0m\n\u001b[0;32m----> 1\u001b[0;31m \u001b[0mnombre\u001b[0m \u001b[0;34m=\u001b[0m \u001b[0minput\u001b[0m\u001b[0;34m(\u001b[0m\u001b[0;34m\"Digite su nombre\"\u001b[0m\u001b[0;34m)\u001b[0m\u001b[0;34m\u001b[0m\u001b[0;34m\u001b[0m\u001b[0m\n\u001b[0m\u001b[1;32m      2\u001b[0m \u001b[0medad\u001b[0m \u001b[0;34m=\u001b[0m \u001b[0minput\u001b[0m\u001b[0;34m(\u001b[0m\u001b[0;34m\"Digite su edad\"\u001b[0m\u001b[0;34m)\u001b[0m\u001b[0;34m\u001b[0m\u001b[0;34m\u001b[0m\u001b[0m\n\u001b[1;32m      3\u001b[0m \u001b[0mprint\u001b[0m \u001b[0;34m(\u001b[0m\u001b[0;34m\"Nombre: \"\u001b[0m\u001b[0;34m,\u001b[0m\u001b[0mnombre\u001b[0m\u001b[0;34m,\u001b[0m \u001b[0;34m\"Edad:\"\u001b[0m\u001b[0;34m,\u001b[0m \u001b[0medad\u001b[0m\u001b[0;34m)\u001b[0m\u001b[0;34m\u001b[0m\u001b[0;34m\u001b[0m\u001b[0m\n",
            "\u001b[0;32m/usr/local/lib/python3.12/dist-packages/ipykernel/kernelbase.py\u001b[0m in \u001b[0;36mraw_input\u001b[0;34m(self, prompt)\u001b[0m\n\u001b[1;32m   1175\u001b[0m                 \u001b[0;34m\"raw_input was called, but this frontend does not support input requests.\"\u001b[0m\u001b[0;34m\u001b[0m\u001b[0;34m\u001b[0m\u001b[0m\n\u001b[1;32m   1176\u001b[0m             )\n\u001b[0;32m-> 1177\u001b[0;31m         return self._input_request(\n\u001b[0m\u001b[1;32m   1178\u001b[0m             \u001b[0mstr\u001b[0m\u001b[0;34m(\u001b[0m\u001b[0mprompt\u001b[0m\u001b[0;34m)\u001b[0m\u001b[0;34m,\u001b[0m\u001b[0;34m\u001b[0m\u001b[0;34m\u001b[0m\u001b[0m\n\u001b[1;32m   1179\u001b[0m             \u001b[0mself\u001b[0m\u001b[0;34m.\u001b[0m\u001b[0m_parent_ident\u001b[0m\u001b[0;34m[\u001b[0m\u001b[0;34m\"shell\"\u001b[0m\u001b[0;34m]\u001b[0m\u001b[0;34m,\u001b[0m\u001b[0;34m\u001b[0m\u001b[0;34m\u001b[0m\u001b[0m\n",
            "\u001b[0;32m/usr/local/lib/python3.12/dist-packages/ipykernel/kernelbase.py\u001b[0m in \u001b[0;36m_input_request\u001b[0;34m(self, prompt, ident, parent, password)\u001b[0m\n\u001b[1;32m   1217\u001b[0m             \u001b[0;32mexcept\u001b[0m \u001b[0mKeyboardInterrupt\u001b[0m\u001b[0;34m:\u001b[0m\u001b[0;34m\u001b[0m\u001b[0;34m\u001b[0m\u001b[0m\n\u001b[1;32m   1218\u001b[0m                 \u001b[0;31m# re-raise KeyboardInterrupt, to truncate traceback\u001b[0m\u001b[0;34m\u001b[0m\u001b[0;34m\u001b[0m\u001b[0m\n\u001b[0;32m-> 1219\u001b[0;31m                 \u001b[0;32mraise\u001b[0m \u001b[0mKeyboardInterrupt\u001b[0m\u001b[0;34m(\u001b[0m\u001b[0;34m\"Interrupted by user\"\u001b[0m\u001b[0;34m)\u001b[0m \u001b[0;32mfrom\u001b[0m \u001b[0;32mNone\u001b[0m\u001b[0;34m\u001b[0m\u001b[0;34m\u001b[0m\u001b[0m\n\u001b[0m\u001b[1;32m   1220\u001b[0m             \u001b[0;32mexcept\u001b[0m \u001b[0mException\u001b[0m\u001b[0;34m:\u001b[0m\u001b[0;34m\u001b[0m\u001b[0;34m\u001b[0m\u001b[0m\n\u001b[1;32m   1221\u001b[0m                 \u001b[0mself\u001b[0m\u001b[0;34m.\u001b[0m\u001b[0mlog\u001b[0m\u001b[0;34m.\u001b[0m\u001b[0mwarning\u001b[0m\u001b[0;34m(\u001b[0m\u001b[0;34m\"Invalid Message:\"\u001b[0m\u001b[0;34m,\u001b[0m \u001b[0mexc_info\u001b[0m\u001b[0;34m=\u001b[0m\u001b[0;32mTrue\u001b[0m\u001b[0;34m)\u001b[0m\u001b[0;34m\u001b[0m\u001b[0;34m\u001b[0m\u001b[0m\n",
            "\u001b[0;31mKeyboardInterrupt\u001b[0m: Interrupted by user"
          ]
        }
      ]
    },
    {
      "cell_type": "code",
      "source": [
        "a = int(input(\"Digite primer numero\"))\n",
        "b = int(input(\"digite segund numero\"))\n",
        "\n",
        "print(\"Suma: \",a + b)\n",
        "print (\"El primero es mayor?:\", a>b)\n",
        "print (a>=0 and b>0)\n"
      ],
      "metadata": {
        "id": "RxVF1l7qRuJV"
      },
      "execution_count": null,
      "outputs": []
    },
    {
      "cell_type": "code",
      "source": [
        "from ast import mod\n",
        "a = int(input(\"Digite primer numero\"))\n",
        "\n",
        "\n",
        "if a>0 and a % 2==0 :\n",
        "  print (\"el numero es positivo y es par\")\n",
        "elif a<0 and a % 2==0:\n",
        "  print (\"el numero es negativo y es par\")\n",
        "elif a>0 and a % 2!=0:\n",
        "  print (\"el numero es positivo y es impar\")\n",
        "elif a<0 and a % 2!=0:\n",
        "  print (\"el numero es negativo y es impar\")\n",
        "else:\n",
        "  print (\"el numero 0\")\n",
        "\n"
      ],
      "metadata": {
        "id": "z2XSPqxtSH2Y"
      },
      "execution_count": null,
      "outputs": []
    },
    {
      "cell_type": "code",
      "source": [
        "a = 7\n",
        "\n",
        "for i in range(0,11):\n",
        "  print (a,\" x \",i,\" = \",a * i)\n",
        "password = 0\n",
        "\n",
        "while password != \"12345\":\n",
        "  password = input(print(\"Digite contraseña\"))"
      ],
      "metadata": {
        "collapsed": true,
        "id": "PmPcXE-9EPG8"
      },
      "execution_count": null,
      "outputs": []
    },
    {
      "cell_type": "code",
      "source": [
        "#Proyecto IMC#\n",
        "print(\"Bienvenido a la calculadora IMC\")\n",
        "sw = 1\n",
        "while sw == 1:\n",
        "  peso = float(input(print(\"Digite su peso\")))\n",
        "  altura = float(input(print(\"Digite su altura\")))\n",
        "  imc = peso / (altura**2)\n",
        "  print (\"Su IMC es: \",imc)\n",
        "  if imc < 18.5:\n",
        "    print (\"Peso bajo\")\n",
        "  elif imc > 18.5 and imc < 24.9:\n",
        "    print (\"Peso normal\")\n",
        "  elif imc > 25.0 and imc < 29.9:\n",
        "    print(\"Sobrepeso\")\n",
        "  else:\n",
        "    print(\"Obesidad\")\n",
        "  sw = int(input(\"Digite: \\n1 para continuar /\\n0 para salir \"))\n",
        "\n",
        "\n",
        "\n"
      ],
      "metadata": {
        "id": "8IubUixzaOy-"
      },
      "execution_count": null,
      "outputs": []
    },
    {
      "cell_type": "code",
      "source": [
        "##LISTAS\n",
        "\n",
        "data = [2,4,1,3,5,5]\n",
        "data.append([1,5])\n",
        "print(data)\n",
        "data.remove([1,5])\n",
        "print(data)\n",
        "maxi = max(data)\n",
        "mini = min(data)\n",
        "largo = len(data)\n",
        "tipo = type(data)\n",
        "print(\"Max: \",maxi,\" Mini: \",mini,\" len: \",largo , \" Tipo: \",tipo)\n",
        "#print(sorted(data))\n",
        "\n",
        "\n",
        "##### EJERCICIOS DE ARITMETICA\n",
        "suma = 0\n",
        "for i in data:\n",
        "  suma = suma + i\n",
        "print(\"La suma es:\", suma, \"\\n#########################################################\" )\n",
        "\n",
        "###MAXIMOS Y MINIMOS####\n",
        "mx = data[0]\n",
        "mi = data[0]\n",
        "for i in data:\n",
        "  if mi > i:\n",
        "    mi = i\n",
        "  elif mx < i:\n",
        "    mx = i\n",
        "\n",
        "print (\"El maximo es: \",mx,\" El minimo es: \",mi)\n"
      ],
      "metadata": {
        "id": "ca-yl1aggGpV"
      },
      "execution_count": null,
      "outputs": []
    },
    {
      "cell_type": "code",
      "source": [
        "\n",
        "##########DUPLICADOS LISTAS ######################\n",
        "\n",
        "\n",
        "\n",
        "##def duplicados(data):\n",
        "data_limpia=[]\n",
        "data_limpia.append(data[0])\n",
        "print(\"data: \", data)\n",
        "\n",
        "\n",
        "for i in data:\n",
        "  repetido = False\n",
        "  for j in data_limpia:\n",
        "    if i == j:\n",
        "      repetido = True\n",
        "      break\n",
        "  if repetido == False:\n",
        "      data_limpia.append(i)\n",
        "\n",
        "\n",
        "\n",
        "\n",
        "print(\"data Limpia: \", data_limpia)\n",
        "\n",
        " ## return data_limpia\n",
        "\n",
        "##duplicados(data)\n",
        "\n",
        "\n",
        "### forma mas rapida\n",
        "\n",
        "for x in data:\n",
        "  if x not in data_limpia:\n",
        "    data_limpia.append(x)\n",
        "\n",
        "print(\"data Limpia: \", data_limpia)\n",
        "print(\"Ultimo elemento de la lista\", data_limpia[-1:])\n",
        "\n",
        "try :\n",
        "  data.remove(5)\n",
        "except:\n",
        "  print(\"No se encontro el valor\")\n",
        "\n",
        "print(\"data nueva: \",data)\n",
        "print(sorted(data))\n",
        "print(\"Tres primeros elementos\", sorted(data[0:3]))"
      ],
      "metadata": {
        "id": "2Jvwzq1fGOtr"
      },
      "execution_count": null,
      "outputs": []
    },
    {
      "cell_type": "code",
      "source": [
        "#####################INTERMEDIOS#######################\n",
        "orden = [\"Brian\", \"Liz\", \"Juan\",\"Sebas\"]\n",
        "\n",
        "print(orden[::-1])\n",
        "\n",
        "print(list(reversed(orden)))\n",
        "\n",
        "\n"
      ],
      "metadata": {
        "id": "V2ONduRoXHgE"
      },
      "execution_count": null,
      "outputs": []
    },
    {
      "cell_type": "code",
      "source": [
        "##################AVANZADOS###########################\n",
        "\n",
        "numeros = list(range(1,51))\n",
        "primos = []\n",
        "print(numeros)\n",
        "cont = 0\n",
        "\n",
        "\n",
        "for i in numeros:\n",
        "  iterador = list(range(1,i+1))\n",
        "  # print(iterador)\n",
        "  cont = 0\n",
        "  for j in iterador:\n",
        "    if (i % j == 0):\n",
        "      cont = cont + 1\n",
        "\n",
        "  if(cont == 2):\n",
        "      primos.append(i)\n",
        "\n",
        "print(primos)\n",
        "\n",
        "\n",
        "\n",
        "\n",
        "primos2 = [n for n in numeros if n > 1 and all(n % i != 0 for i in range(2, int(n**0.5)+1))]\n",
        "print(primos2)\n",
        "\n",
        "print((2**0.5)+1)"
      ],
      "metadata": {
        "id": "-xTz7ju3NKr3",
        "colab": {
          "base_uri": "https://localhost:8080/"
        },
        "outputId": "db0de817-1390-4bf9-9bd8-7bcda6f34207"
      },
      "execution_count": 1,
      "outputs": [
        {
          "output_type": "stream",
          "name": "stdout",
          "text": [
            "[1, 2, 3, 4, 5, 6, 7, 8, 9, 10, 11, 12, 13, 14, 15, 16, 17, 18, 19, 20, 21, 22, 23, 24, 25, 26, 27, 28, 29, 30, 31, 32, 33, 34, 35, 36, 37, 38, 39, 40, 41, 42, 43, 44, 45, 46, 47, 48, 49, 50]\n",
            "[2, 3, 5, 7, 11, 13, 17, 19, 23, 29, 31, 37, 41, 43, 47]\n",
            "[2, 3, 5, 7, 11, 13, 17, 19, 23, 29, 31, 37, 41, 43, 47]\n",
            "2.414213562373095\n"
          ]
        }
      ]
    },
    {
      "cell_type": "code",
      "source": [
        "#########PALINDROMES##################\n",
        "palabras = [\"oso\",\"casa\",\"radar\",\"sol\",\"reconocer\"]\n",
        "palindromo = []\n",
        "for i in palabras:\n",
        "  if i == i[::-1]:\n",
        "    palindromo.append(i)\n",
        "print(palindromo)\n",
        "\n",
        "palabras = [\"oso\", \"casa\", \"radar\", \"sol\", \"reconocer\"]\n",
        "palindromos = [p for p in palabras if p == p[::-1]]\n",
        "print(palindromos)"
      ],
      "metadata": {
        "id": "updRjbbHh7y2"
      },
      "execution_count": null,
      "outputs": []
    },
    {
      "cell_type": "code",
      "source": [
        "################MATRICES##############################\n",
        "matriz = []\n",
        "filas = 3\n",
        "cols = 3\n",
        "cont = 1\n",
        "for i in range(filas):\n",
        "  fila=[]\n",
        "  for j in range(cols):\n",
        "    fila.append(cont)\n",
        "    cont = cont + 1\n",
        "  matriz.append(fila)\n",
        "print(matriz, end = \" \")\n",
        "print()\n",
        "\n",
        "\n",
        "\n",
        "row = 0\n",
        "for i in range(len(matriz)):\n",
        "  print(matriz[i][i])\n",
        "\n",
        "\n",
        "cont = len(matriz)-1\n",
        "for i in range(len(matriz)):\n",
        "\n",
        "  print(matriz[cont-i][cont-i])\n",
        "  ##cont = cont - 1\n",
        "\n",
        "\n",
        "\n",
        "n = len(matriz)\n",
        "\n",
        "for i in range(n):\n",
        "    print(matriz[i][n - 1 - i], \"imprime\", end=\" \")\n",
        "    print(n - 1 - i, \" rest\")\n",
        "    print (i, \" i\")"
      ],
      "metadata": {
        "id": "VUSN0_YulYjO"
      },
      "execution_count": null,
      "outputs": []
    },
    {
      "cell_type": "code",
      "source": [
        "#######################RETO##########################\n",
        "notas =[]\n",
        "\n",
        "for i in range(5):\n",
        "  notas.append(int(input(\"Digite nota: \")))\n",
        "\n",
        "notas.sort()\n",
        "min(notas)\n",
        "max(notas)\n",
        "promedio = sum(notas) / len(notas)\n",
        "\n",
        "print (\"La nota maxima es: \", max(notas), \"La nota minima es: \", min(notas), \"La nota promedio es: \",promedio, \"notas ordenadas: \", notas)\n",
        "\n",
        "\n",
        "print(notas)"
      ],
      "metadata": {
        "id": "v8LVAJwZlexO",
        "colab": {
          "base_uri": "https://localhost:8080/"
        },
        "outputId": "73e23bd3-58c9-4612-ce64-ef3339ae1470"
      },
      "execution_count": null,
      "outputs": [
        {
          "output_type": "stream",
          "name": "stdout",
          "text": [
            "Digite nota: 5\n",
            "Digite nota: 6\n",
            "Digite nota: 3\n",
            "Digite nota: 2\n",
            "Digite nota: 1\n",
            "La nota maxima es:  6 La nota minima es:  1 La nota promedio es:  3.4 notas ordenadas:  [1, 2, 3, 5, 6]\n",
            "[1, 2, 3, 5, 6]\n"
          ]
        }
      ]
    },
    {
      "cell_type": "code",
      "source": [
        "##################MUTACIONN#######################\n",
        "\n",
        "x = [1,2,3,4,5,6,9]\n",
        "y = x\n",
        "y.append(7)\n",
        "j = x.copy()\n",
        "j.append(8)\n",
        "print(x)\n",
        "print(y)\n",
        "print(j)\n"
      ],
      "metadata": {
        "colab": {
          "base_uri": "https://localhost:8080/"
        },
        "id": "u-sMQkw_6hml",
        "outputId": "9aebc897-caf2-4cea-dca7-1100ee92ba0c"
      },
      "execution_count": null,
      "outputs": [
        {
          "output_type": "stream",
          "name": "stdout",
          "text": [
            "[1, 2, 3, 4, 5, 6, 9, 7]\n",
            "[1, 2, 3, 4, 5, 6, 9, 7]\n",
            "[1, 2, 3, 4, 5, 6, 9, 7, 8]\n"
          ]
        }
      ]
    },
    {
      "cell_type": "code",
      "source": [
        "cartesiano = [(i, j) for i in range(3) for j in range(2)]\n",
        "print(cartesiano)"
      ],
      "metadata": {
        "colab": {
          "base_uri": "https://localhost:8080/"
        },
        "id": "XTqkNQ4po-yU",
        "outputId": "731e38e0-915f-4d6c-b87e-6537d7157a5f"
      },
      "execution_count": null,
      "outputs": [
        {
          "output_type": "stream",
          "name": "stdout",
          "text": [
            "[(0, 0), (0, 1), (1, 0), (1, 1), (2, 0), (2, 1)]\n"
          ]
        }
      ]
    },
    {
      "cell_type": "code",
      "source": [
        "##########################DICCIONARIOS#################################\n",
        "persona = {\n",
        "    \"nombre\" : \"Juan Pablo\",\n",
        "    \"Apellodo\" : \"Caballero\",\n",
        "    \"Edad\" : \"1 mes\"\n",
        "\n",
        " }\n",
        "persona2 = {}\n",
        "persona2 = persona.copy()\n",
        "\n",
        "persona2[\"nombre\"] =\"Brian\"\n",
        "persona2[\"Apellido\"]= \"Villamil\"\n",
        "persona2[\"Edad\"] = \"36 años\"\n",
        "\n",
        "\n",
        "\n",
        "del persona[\"Apellodo\"]\n",
        "del persona2[\"Apellodo\"]\n",
        "\n",
        "\"\"\"\n",
        "print(persona.items(),\" \\n\", persona.keys())\n",
        "persona.values()\n",
        "print(persona)\n",
        "\"\"\"\n",
        "\n",
        "print(persona.get(\"nombre\", \"Benjamin\"))\n",
        "\n"
      ],
      "metadata": {
        "colab": {
          "base_uri": "https://localhost:8080/"
        },
        "id": "y8_dHZ9zpCwk",
        "outputId": "04b70811-b825-4efb-f993-7702ea1050a3"
      },
      "execution_count": null,
      "outputs": [
        {
          "output_type": "stream",
          "name": "stdout",
          "text": [
            "Juan Pablo\n"
          ]
        }
      ]
    },
    {
      "cell_type": "code",
      "source": [
        "#############################EJERCICIO#################################\n",
        "\n",
        "ventas = {\n",
        "    \"id\":1\n",
        "    ,\"descripcion\" : \"Portatil\"\n",
        "    ,\"marca\" : \"Lenovo\"\n",
        "    ,\"precio\" : 5000000.0\n",
        "}\n",
        "print(ventas.get(\"marca\", \"Lenovo\"))\n",
        "print(ventas)\n",
        "\n"
      ],
      "metadata": {
        "colab": {
          "base_uri": "https://localhost:8080/"
        },
        "id": "UATUX8CGKQW3",
        "outputId": "6184b294-ebd7-44c4-9cab-ebdc237551e8"
      },
      "execution_count": 135,
      "outputs": [
        {
          "output_type": "stream",
          "name": "stdout",
          "text": [
            "Lenovo\n",
            "{'id': 1, 'descripcion': 'Portatil', 'marca': 'Lenovo', 'precio': 5000000.0}\n"
          ]
        }
      ]
    },
    {
      "cell_type": "code",
      "source": [
        "###########################Ejercicio guiado############################\n",
        "\n",
        "estudiante = {\n",
        "    \"nombre\" : \"Brian Caballero\"\n",
        "    ,\"edad\" : 36\n",
        "    ,\"materias\":[\"Matematicas\", \"Español\", \"Sociales\"]\n",
        "}\n",
        "\n",
        "\n",
        "estudiante[\"materias\"].append(\"Ingles\")\n",
        "estudiante[\"edad\"] = 30\n",
        "del estudiante[\"edad\"]\n",
        "print(estudiante)"
      ],
      "metadata": {
        "colab": {
          "base_uri": "https://localhost:8080/"
        },
        "id": "BXxrL4fvSR8U",
        "outputId": "88f39cd5-7a64-4e7b-c37f-a408d642ad79"
      },
      "execution_count": null,
      "outputs": [
        {
          "output_type": "stream",
          "name": "stdout",
          "text": [
            "{'nombre': 'Brian Caballero', 'materias': ['Matematicas', 'Español', 'Sociales', 'Ingles']}\n"
          ]
        }
      ]
    },
    {
      "cell_type": "code",
      "source": [
        "##from itertools import count\n",
        "#############################Ejercicio Reto#############################\n",
        "empleados = [\n",
        "    {\"id\" : 1, \"nombre\" : \"Juan Pablo Caballero\", \"Cargo\" : \"Ïngeniero de sistemas\", \"Salario\" : 5000000},\n",
        "    {\"id\" : 2, \"nombre\" : \"Brian Caballero\", \"Cargo\" : \"Jefe De BI\", \"Salario\" : 6000000},\n",
        "    {\"id\" : 3, \"nombre\" : \"Benjamin Caballero\", \"Cargo\" : \"Jefe De TI\", \"Salario\" : 7000000},\n",
        "    {\"id\" : 4, \"nombre\" : \"Sebastian Gonzalez\", \"Cargo\" : \"Jefe De Marketing\", \"Salario\" : 8000000},\n",
        "    {\"id\" : 5, \"nombre\" : \"Sergio Caballero\", \"Cargo\" : \"Medico\", \"Salario\" : 9000000},\n",
        "    {\"id\" : 6, \"nombre\" : \"Guillermo Caballero\", \"Cargo\" : \"Medico\", \"Salario\" : 9000000},\n",
        "    {\"id\" : 7, \"nombre\" : \"Cristian Caballero\", \"Cargo\" : \"Medico\", \"Salario\" : 9000000}\n",
        "]\n",
        "\n",
        "dic_empleado = {\"id\" : 8, \"nombre\" : \"Tasio Dominguez Villamil\", \"Cargo\" : \"Gerente\", \"Salario\" : 9000000}\n",
        "\n",
        "\n",
        "\n",
        "def agregarEmpleado(empleados, empleado):\n",
        "  empleados.append(empleado)\n",
        "\n",
        "\n",
        "\n",
        "def buscarEmpleado(codigo):\n",
        "  for i in empleados:\n",
        "    if i[\"id\"] == codigo:\n",
        "      return i\n",
        "      break\n",
        "\n",
        "def salarioPromedio(empleados):\n",
        "  total = 0\n",
        "  for i in empleados:\n",
        "    total += i[\"Salario\"]\n",
        "  ##promedio =4 total/len(empleados)\n",
        "  return total/len(empleados)\n",
        "\n",
        "#print(salarioPromedio(empleados))\n",
        "\n",
        "def salarioComprhession(emplados):\n",
        "\n",
        "  return  sum(i[\"Salario\"] for i in empleados)/len(empleados)\n",
        "\n",
        "def cargosComprension(empleados):\n",
        "\n",
        "  cargos = list({i[\"Cargo\"] for i in empleados}) ##El corchete le quita los duplicados y la comprension va desde lo estremo hastan lo interior\n",
        "\n",
        "  return cargos\n",
        "\n",
        "def cargos(emppleados):\n",
        "  cargo =  []\n",
        "  for i in empleados:\n",
        "    if i[\"Cargo\"] not in cargo:\n",
        "      cargo.append(i[\"Cargo\"])\n",
        "  return cargo\n",
        "\n",
        "\n",
        "agregarEmpleado(empleados, dic_empleado)\n",
        "buscarEmpleado(4)\n",
        "salarioPromedio(empleados)\n",
        "salarioComprhession(empleados)\n",
        "\n",
        "cargos(empleados)\n",
        "#cargosComprension(empleados)\n"
      ],
      "metadata": {
        "colab": {
          "base_uri": "https://localhost:8080/"
        },
        "id": "EIWzgK1zS2Oc",
        "outputId": "6f8a2663-9fb9-414e-c262-506ee9a42bb0"
      },
      "execution_count": 61,
      "outputs": [
        {
          "output_type": "execute_result",
          "data": {
            "text/plain": [
              "['Ïngeniero de sistemas',\n",
              " 'Jefe De BI',\n",
              " 'Jefe De TI',\n",
              " 'Jefe De Marketing',\n",
              " 'Medico',\n",
              " 'Gerente']"
            ]
          },
          "metadata": {},
          "execution_count": 61
        }
      ]
    },
    {
      "cell_type": "code",
      "source": [
        "##########################CONJUNTOS############################################\n",
        "clientes_enero = [\"Brian\", \"Carlos\", \"Luisa\", \"Connie\", \"Mery\", \"Juan Pablo\",\"Benjamin\"]\n",
        "clientes_febrero = [\"Brian\", \"Santiago\", \"Catalina\", \"Connie\", \"Mery\", \"Juan Pablo\",\"Benjamin\"]\n",
        "\n",
        "set_enero = set(clientes_enero)\n",
        "set_febrero = set(clientes_febrero)\n",
        "\n",
        "print(\"Clientes Repetidos\", set_enero & set_febrero)\n",
        "print(\"clientes nueos\", set_febrero - set_enero)\n",
        "print(\"clientes nueos\", set_enero - set_febrero)"
      ],
      "metadata": {
        "id": "yL70qx1aW_xL",
        "colab": {
          "base_uri": "https://localhost:8080/"
        },
        "outputId": "771cf934-08f0-4ee2-d085-b25d9b6caa8a"
      },
      "execution_count": 67,
      "outputs": [
        {
          "output_type": "stream",
          "name": "stdout",
          "text": [
            "Clientes Repetidos {'Juan Pablo', 'Mery', 'Brian', 'Connie', 'Benjamin'}\n",
            "clientes nueos {'Santiago', 'Catalina'}\n",
            "clientes nueos {'Luisa', 'Carlos'}\n"
          ]
        }
      ]
    },
    {
      "cell_type": "code",
      "source": [
        "################################RETO DEL DIA #################################\n",
        "\n",
        "empleados = [\n",
        "    {\"id\": 1, \"nombre\": \"Ana\", \"cargo\": \"Analista\"},\n",
        "    {\"id\": 2, \"nombre\": \"Luis\", \"cargo\": \"Ingeniero\"},\n",
        "    {\"id\": 3, \"nombre\": \"Sofía\", \"cargo\": \"Analista\"},\n",
        "    {\"id\": 4, \"nombre\": \"Carlos\", \"cargo\": \"Gerente\"}\n",
        "]\n",
        "\n",
        "\n",
        "def validacionSet(id_busqueda):\n",
        "  Act = True\n",
        "  for i in empleados:\n",
        "    cargos = {i[\"cargo\"]for i in empleados},\n",
        "    nombres = {i[\"nombre\"]for i in empleados}\n",
        "    id   = {i[\"id\"]  for i in empleados}\n",
        "\n",
        "  print(id)\n",
        "  for i in id:\n",
        "    if id_busqueda not in id:\n",
        "      Act = False\n",
        "\n",
        "  if(Act == False):\n",
        "    print(\"No se encontro el empleado\")\n",
        "  else:\n",
        "    print(\"Se encontro el empleado\")\n",
        "\n",
        "\n",
        "  print(\"Nombres\", nombres)\n",
        "  print(\"Cargos\", cargos)\n",
        "\n",
        "\n",
        "\n",
        "\n",
        "\n",
        "validacionSet(2)\n",
        ""
      ],
      "metadata": {
        "colab": {
          "base_uri": "https://localhost:8080/"
        },
        "id": "Fat03YHGhzCs",
        "outputId": "ee54c6f3-6416-4e5e-8235-2d5b9d4e106f"
      },
      "execution_count": 89,
      "outputs": [
        {
          "output_type": "stream",
          "name": "stdout",
          "text": [
            "{1, 2, 3, 4}\n",
            "Se encontro el empleado\n",
            "Nombres {'Carlos', 'Ana', 'Sofía', 'Luis'}\n",
            "Cargos ({'Ingeniero', 'Analista', 'Gerente'},)\n"
          ]
        }
      ]
    },
    {
      "cell_type": "code",
      "source": [
        "##########################NUMPY###############################\n",
        "\n",
        "import numpy as np\n",
        "arr = np.array([1,2,3,4,5])\n",
        "mat = np.array([[1,2,3],[4,5,6],[7,8,9]])  #Matrices\n",
        "\n",
        "\n",
        "#print(arr.shape)\n",
        "print(arr *2)\n",
        "#print(mat.shape)\n",
        "\"\"\"\n",
        "print(np.zeros((2,3)))\n",
        "print(np.ones((2,3)))\n",
        "print(np.random.random((2,3)))\"\"\""
      ],
      "metadata": {
        "colab": {
          "base_uri": "https://localhost:8080/",
          "height": 55
        },
        "id": "wVYdVNbdkRhb",
        "outputId": "51fa454f-80db-4629-b1b6-17ffb9ea0a89"
      },
      "execution_count": 25,
      "outputs": [
        {
          "output_type": "stream",
          "name": "stdout",
          "text": [
            "[ 2  4  6  8 10]\n"
          ]
        },
        {
          "output_type": "execute_result",
          "data": {
            "text/plain": [
              "'\\nprint(np.zeros((2,3)))\\nprint(np.ones((2,3)))\\nprint(np.random.random((2,3)))'"
            ],
            "application/vnd.google.colaboratory.intrinsic+json": {
              "type": "string"
            }
          },
          "metadata": {},
          "execution_count": 25
        }
      ]
    },
    {
      "cell_type": "code",
      "source": [
        "####################################EJERCICIOS####################################\n",
        "import numpy as np\n",
        "\n",
        "\n",
        "matriz = np.random.randint(50,100, size= (3,3))\n",
        "matriz2 = np.random.rand(3,3)\n",
        "\n",
        "\n",
        "print(np.sqrt(matriz))\n",
        "print(matriz)\n",
        "################################################################################\n",
        "listado_numerico = np.arange(1, 11)\n",
        "print(listado_numerico)\n",
        "print(\"eleavados\", listado_numerico**2)\n",
        "print(\"sumados\", np.sum(listado_numerico))\n",
        "print(\"pomedio\", np.mean(listado_numerico))\n",
        "print(\"Cinco pimeros\", listado_numerico[:5])\n",
        "print(\"Los cinco ultimos\", listado_numerico[5:])\n",
        "print(\"Todos los pares\", listado_numerico[listado_numerico % 2 == 0])\n",
        "print(\"todos los pares 2\", listado_numerico[1::2] )"
      ],
      "metadata": {
        "colab": {
          "base_uri": "https://localhost:8080/"
        },
        "id": "o9NjEyL9ZROy",
        "outputId": "aabc1f45-6b5f-4fa3-ff52-3247a20c7a6f"
      },
      "execution_count": 83,
      "outputs": [
        {
          "output_type": "stream",
          "name": "stdout",
          "text": [
            "[[8.24621125 9.79795897 8.06225775]\n",
            " [7.14142843 8.36660027 8.06225775]\n",
            " [9.53939201 9.69535971 8.36660027]]\n",
            "[[68 96 65]\n",
            " [51 70 65]\n",
            " [91 94 70]]\n",
            "[ 1  2  3  4  5  6  7  8  9 10]\n",
            "eleavados [  1   4   9  16  25  36  49  64  81 100]\n",
            "sumados 55\n",
            "pomedio 5.5\n",
            "Cinco pimeros [1 2 3 4 5]\n",
            "Los cinco ultimos [ 6  7  8  9 10]\n",
            "Todos los pares [ 2  4  6  8 10]\n",
            "todos los pares 2 [ 2  4  6  8 10]\n"
          ]
        }
      ]
    },
    {
      "cell_type": "code",
      "source": [
        "######################MINI PROYECTO#############################################\n",
        "precios = np.random.randint(10000,200001, size = 1000)\n",
        "cantidad = np.random.randint(1,11, size = 1000)\n",
        "\n",
        "ventas = precios * cantidad\n",
        "\n",
        "#print(\"Ventas totales: \", ventas)\n",
        "print(\"| Ventas promedio: \", ventas.mean(), \" | Venta maxima: \", ventas.max(), \" |Venta minima: \", ventas.min(),\" |Cantidad maxima: \", cantidad.max() )\n",
        "print(\"ventas superiores a 500.000: \", ventas[ventas > 500000])"
      ],
      "metadata": {
        "colab": {
          "base_uri": "https://localhost:8080/"
        },
        "id": "M5KkUbh4gaWf",
        "outputId": "d6c5ad6b-a1a0-4dc2-9d78-c6dde0cf862c"
      },
      "execution_count": 75,
      "outputs": [
        {
          "output_type": "stream",
          "name": "stdout",
          "text": [
            "| Ventas promedio:  581226.775  | Venta maxima:  1944860  |Venta minima:  10229  |Cantidad maxima:  10\n",
            "ventas superiores a 500.000:  [1483110  751930  588371  999036 1159803  645176  940851  501726  956860\n",
            "  866058  904232  583398  774355 1241317 1533880  562866  811266  922698\n",
            "  637524  799204  635201  995360  644826  687420 1015638  637266  714028\n",
            " 1585970 1872840  588465  527860  736950  728856  857430  676865  567720\n",
            " 1710680 1027348 1220464  514002  544596  752283  686110  719257 1024562\n",
            " 1021220  901660  607686  924600  895044  779265  633878 1944860 1518960\n",
            " 1771785  553995 1355810 1099070 1293552  623590  990878  620610  869620\n",
            "  645834 1371808 1209568  557829  714700  945770  542170 1840910  699680\n",
            "  678510 1645668  730425  554130 1491840  769920 1114002  837200  993643\n",
            " 1335537  562940  856300 1232028  787320  508540  536296  840875 1382250\n",
            " 1401620  582736 1226288  744336 1109508  735336  613844 1344366  914070\n",
            " 1902320 1211371  593892  738870  727392  747418  586878  792610  560970\n",
            "  989730  617412 1398481  824502  839184  730908  646870 1150260  769069\n",
            "  877638 1145016  818802  547347  557490  692276 1556685 1807680  544040\n",
            "  997240 1582140  953440  802480  601680  710070 1187928  968105  567132\n",
            "  541962  734845  937636  904620  889866  644350  986550 1650816  777815\n",
            " 1133964 1023344  641508  670201 1576190 1620800  532310 1300278 1445823\n",
            "  706488  651505  530214  857745  504204  925275 1153614 1239780  717880\n",
            "  621189  888260  767420 1707363  567057  614565  601321  640792 1693920\n",
            "  672120  727279 1290411  607145  837625  851790  587168  752020  820341\n",
            " 1337450  761255 1407069  973868 1095710 1327869  682290  529218  514818\n",
            " 1908500 1482741  519284 1790530  815845 1540112  774102 1285543  974736\n",
            " 1245740  913205 1556496  881656  538125 1670139  650740  747495 1043833\n",
            " 1518920 1186284 1414260 1175640 1704980  741464  642520 1251901 1757480\n",
            "  797108 1370070  749392 1299056  558648  728770 1117956  773580 1731650\n",
            "  940854 1108443 1047900  737284  891335  693180 1218560 1545600  658808\n",
            " 1429890  517236  802712 1132830 1309797 1355888 1040116  545748  605120\n",
            "  999250  781610 1105648 1292500 1379080  553748  510520  872580  539790\n",
            " 1108765  740775 1276218  842737 1423800  777456 1007352  636600 1143548\n",
            " 1011312 1031968  757200 1548850 1861610  770992 1052032  505974 1580778\n",
            " 1491696  982576 1742247  577913  604709 1566200  566865 1164597 1127520\n",
            "  822072 1230730 1324896 1592451  679368  577368 1127777  593604  645720\n",
            " 1543936 1535976 1181808  825720 1120848  973450  848410  805245  855533\n",
            " 1201460 1171485  726328 1004946 1257123  998704  547512 1058744  757392\n",
            "  716645  695960 1104170 1056573  930920  802032 1195470 1429264 1363780\n",
            "  503650  909145  818992  536670 1196704 1332351  665484  537126 1197448\n",
            " 1487600  766556  542400  503046  711354  942120 1137888  671464  529070\n",
            " 1155826 1797400  639240 1114572 1112440 1437952  836240 1163218 1086972\n",
            "  796860  870896  822695  899870  896930 1328728  553194 1870590 1627263\n",
            "  845584  883044  671390  605070  851096 1380218  773012  517473  797925\n",
            " 1074130  665752  544416  759282 1031850  815679  890496  762850 1640720\n",
            " 1163214  986175  564060 1575650  719436  660136  553388  831345  898770\n",
            "  553640  649684 1720134  522462  604616 1078434  740600 1022090 1513000\n",
            " 1609299  671992  704010 1593441  517072  776340 1185485  886921  892890\n",
            "  713744  871990 1400868  963840  561984  621430 1261530  741000  717185\n",
            "  550102 1441570 1303456 1074480  688167 1372992 1530144 1541394  583935\n",
            "  515172  539700 1887680 1306926 1510624  523019 1367622  971250  906950\n",
            " 1636320  503256 1547000 1346112  786685 1058960  975300  565132 1149400\n",
            "  625878  770105  665560 1543032 1129653 1024121  910136  765830  649800\n",
            " 1539280  602294 1127970  840066  911864  946064  841496  775782 1121750\n",
            " 1266400  534500  775656 1159216  693460 1239672  907848 1527291  796488\n",
            "  757132  765504 1853560  811510 1009141  772912 1397130 1111672 1227744\n",
            "  726450  599439  523952]\n"
          ]
        }
      ]
    },
    {
      "cell_type": "code",
      "source": [
        "#####################################PANDAS########################################\n",
        "import pandas as pd\n",
        "serie = pd.Series([1,2,3,4,5], name =\"ventas\")\n",
        "\n",
        "print(serie)\n",
        "\n",
        "\n",
        "dataframe = {\n",
        "    \"producto\" : [\"A\",\"B\",\"C\",\"D\"],\n",
        "    \"Precio\" : [1000,2000,3000,4000],\n",
        "    \"Cantidad\" : [1,2,3,4]\n",
        "}\n",
        "\n",
        "df = pd.DataFrame(dataframe)\n",
        "print(df)\n",
        "print(type(df))"
      ],
      "metadata": {
        "colab": {
          "base_uri": "https://localhost:8080/"
        },
        "id": "pCjKXNKKivq4",
        "outputId": "2cea1260-0cbb-4c2c-d9f3-828006d678a1"
      },
      "execution_count": 96,
      "outputs": [
        {
          "output_type": "stream",
          "name": "stdout",
          "text": [
            "0    1\n",
            "1    2\n",
            "2    3\n",
            "3    4\n",
            "4    5\n",
            "Name: ventas, dtype: int64\n",
            "  producto  Precio  Cantidad\n",
            "0        A    1000         1\n",
            "1        B    2000         2\n",
            "2        C    3000         3\n",
            "3        D    4000         4\n",
            "<class 'pandas.core.frame.DataFrame'>\n"
          ]
        }
      ]
    },
    {
      "cell_type": "code",
      "source": [
        "import pandas as pd\n",
        "import seaborn as sns\n",
        "data = pd.read_excel(\"Prestamos.xlsx\")\n",
        "titanic = sns.load_dataset(\"titanic\")\n",
        "\n",
        "# print(titanic)\n",
        "# print(titanic.info())\n",
        "#print(data.head())\n",
        "#print(data.tail())\n",
        "print(titanic.describe())\n",
        "\n",
        "print(titanic[\"survived\"].mean())\n",
        "\n",
        "sobrevivientes_x_sexo = titanic.groupby(\"sex\")[\"survived\"].mean() * 100\n",
        "sobrevivientes_x_clase_sexo = titanic.groupby([\"pclass\",\"sex\"])[\"survived\"].mean()*100\n",
        "print(sobrevivientes_x_sexo)\n",
        "print(sobrevivientes_x_clase_sexo)"
      ],
      "metadata": {
        "colab": {
          "base_uri": "https://localhost:8080/"
        },
        "id": "pVJOb18QrQZ6",
        "outputId": "e465b37c-942c-4197-eaa4-96a1a038f498"
      },
      "execution_count": 132,
      "outputs": [
        {
          "output_type": "stream",
          "name": "stdout",
          "text": [
            "         survived      pclass         age       sibsp       parch        fare\n",
            "count  891.000000  891.000000  714.000000  891.000000  891.000000  891.000000\n",
            "mean     0.383838    2.308642   29.699118    0.523008    0.381594   32.204208\n",
            "std      0.486592    0.836071   14.526497    1.102743    0.806057   49.693429\n",
            "min      0.000000    1.000000    0.420000    0.000000    0.000000    0.000000\n",
            "25%      0.000000    2.000000   20.125000    0.000000    0.000000    7.910400\n",
            "50%      0.000000    3.000000   28.000000    0.000000    0.000000   14.454200\n",
            "75%      1.000000    3.000000   38.000000    1.000000    0.000000   31.000000\n",
            "max      1.000000    3.000000   80.000000    8.000000    6.000000  512.329200\n",
            "0.3838383838383838\n",
            "sex\n",
            "female    74.203822\n",
            "male      18.890815\n",
            "Name: survived, dtype: float64\n",
            "pclass  sex   \n",
            "1       female    96.808511\n",
            "        male      36.885246\n",
            "2       female    92.105263\n",
            "        male      15.740741\n",
            "3       female    50.000000\n",
            "        male      13.544669\n",
            "Name: survived, dtype: float64\n"
          ]
        }
      ]
    },
    {
      "cell_type": "code",
      "source": [],
      "metadata": {
        "id": "qmoLuTqprfkL"
      },
      "execution_count": null,
      "outputs": []
    }
  ]
}