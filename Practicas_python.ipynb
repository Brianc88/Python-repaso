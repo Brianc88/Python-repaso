{
  "nbformat": 4,
  "nbformat_minor": 0,
  "metadata": {
    "colab": {
      "provenance": [],
      "authorship_tag": "ABX9TyP4QFxltz5HnL+zrGbv1uXF",
      "include_colab_link": true
    },
    "kernelspec": {
      "name": "python3",
      "display_name": "Python 3"
    },
    "language_info": {
      "name": "python"
    }
  },
  "cells": [
    {
      "cell_type": "markdown",
      "metadata": {
        "id": "view-in-github",
        "colab_type": "text"
      },
      "source": [
        "<a href=\"https://colab.research.google.com/github/Brianc88/Python-repaso/blob/main/Practicas_python.ipynb\" target=\"_parent\"><img src=\"https://colab.research.google.com/assets/colab-badge.svg\" alt=\"Open In Colab\"/></a>"
      ]
    },
    {
      "cell_type": "code",
      "execution_count": null,
      "metadata": {
        "colab": {
          "base_uri": "https://localhost:8080/"
        },
        "id": "iq5-vDE7QZ2V",
        "outputId": "3eb71149-d9ab-40dd-f58e-d80767420600"
      },
      "outputs": [
        {
          "output_type": "stream",
          "name": "stdout",
          "text": [
            "Hola mundo\n",
            "Nombre:  Brian Edad: 36 Altura: 12.8 Estado False\n"
          ]
        }
      ],
      "source": [
        "print (\"Hola mundo\")\n",
        "\n",
        "nombre = \"Brian\"\n",
        "edad = 36\n",
        "altura  = 12.80\n",
        "es_estudiante = False\n",
        "\n",
        "print (\"Nombre: \",nombre, \"Edad:\", edad, \"Altura:\", altura,\"Estado\", es_estudiante )"
      ]
    },
    {
      "cell_type": "code",
      "source": [],
      "metadata": {
        "id": "n5zK_7zC4Ixs"
      },
      "execution_count": null,
      "outputs": []
    },
    {
      "cell_type": "markdown",
      "source": [],
      "metadata": {
        "id": "pzOmom6T4TH3"
      }
    },
    {
      "cell_type": "code",
      "source": [
        "nombre = input(\"Digite su nombre\")\n",
        "edad = input(\"Digite su edad\")\n",
        "print (\"Nombre: \",nombre, \"Edad:\", edad)"
      ],
      "metadata": {
        "colab": {
          "base_uri": "https://localhost:8080/",
          "height": 321
        },
        "id": "LwZnfKs4Rhbk",
        "outputId": "2a6463c4-44ba-4c48-aec6-7b40d17386bf"
      },
      "execution_count": null,
      "outputs": [
        {
          "output_type": "error",
          "ename": "KeyboardInterrupt",
          "evalue": "Interrupted by user",
          "traceback": [
            "\u001b[0;31m---------------------------------------------------------------------------\u001b[0m",
            "\u001b[0;31mKeyboardInterrupt\u001b[0m                         Traceback (most recent call last)",
            "\u001b[0;32m/tmp/ipython-input-2015627069.py\u001b[0m in \u001b[0;36m<cell line: 0>\u001b[0;34m()\u001b[0m\n\u001b[0;32m----> 1\u001b[0;31m \u001b[0mnombre\u001b[0m \u001b[0;34m=\u001b[0m \u001b[0minput\u001b[0m\u001b[0;34m(\u001b[0m\u001b[0;34m\"Digite su nombre\"\u001b[0m\u001b[0;34m)\u001b[0m\u001b[0;34m\u001b[0m\u001b[0;34m\u001b[0m\u001b[0m\n\u001b[0m\u001b[1;32m      2\u001b[0m \u001b[0medad\u001b[0m \u001b[0;34m=\u001b[0m \u001b[0minput\u001b[0m\u001b[0;34m(\u001b[0m\u001b[0;34m\"Digite su edad\"\u001b[0m\u001b[0;34m)\u001b[0m\u001b[0;34m\u001b[0m\u001b[0;34m\u001b[0m\u001b[0m\n\u001b[1;32m      3\u001b[0m \u001b[0mprint\u001b[0m \u001b[0;34m(\u001b[0m\u001b[0;34m\"Nombre: \"\u001b[0m\u001b[0;34m,\u001b[0m\u001b[0mnombre\u001b[0m\u001b[0;34m,\u001b[0m \u001b[0;34m\"Edad:\"\u001b[0m\u001b[0;34m,\u001b[0m \u001b[0medad\u001b[0m\u001b[0;34m)\u001b[0m\u001b[0;34m\u001b[0m\u001b[0;34m\u001b[0m\u001b[0m\n",
            "\u001b[0;32m/usr/local/lib/python3.12/dist-packages/ipykernel/kernelbase.py\u001b[0m in \u001b[0;36mraw_input\u001b[0;34m(self, prompt)\u001b[0m\n\u001b[1;32m   1175\u001b[0m                 \u001b[0;34m\"raw_input was called, but this frontend does not support input requests.\"\u001b[0m\u001b[0;34m\u001b[0m\u001b[0;34m\u001b[0m\u001b[0m\n\u001b[1;32m   1176\u001b[0m             )\n\u001b[0;32m-> 1177\u001b[0;31m         return self._input_request(\n\u001b[0m\u001b[1;32m   1178\u001b[0m             \u001b[0mstr\u001b[0m\u001b[0;34m(\u001b[0m\u001b[0mprompt\u001b[0m\u001b[0;34m)\u001b[0m\u001b[0;34m,\u001b[0m\u001b[0;34m\u001b[0m\u001b[0;34m\u001b[0m\u001b[0m\n\u001b[1;32m   1179\u001b[0m             \u001b[0mself\u001b[0m\u001b[0;34m.\u001b[0m\u001b[0m_parent_ident\u001b[0m\u001b[0;34m[\u001b[0m\u001b[0;34m\"shell\"\u001b[0m\u001b[0;34m]\u001b[0m\u001b[0;34m,\u001b[0m\u001b[0;34m\u001b[0m\u001b[0;34m\u001b[0m\u001b[0m\n",
            "\u001b[0;32m/usr/local/lib/python3.12/dist-packages/ipykernel/kernelbase.py\u001b[0m in \u001b[0;36m_input_request\u001b[0;34m(self, prompt, ident, parent, password)\u001b[0m\n\u001b[1;32m   1217\u001b[0m             \u001b[0;32mexcept\u001b[0m \u001b[0mKeyboardInterrupt\u001b[0m\u001b[0;34m:\u001b[0m\u001b[0;34m\u001b[0m\u001b[0;34m\u001b[0m\u001b[0m\n\u001b[1;32m   1218\u001b[0m                 \u001b[0;31m# re-raise KeyboardInterrupt, to truncate traceback\u001b[0m\u001b[0;34m\u001b[0m\u001b[0;34m\u001b[0m\u001b[0m\n\u001b[0;32m-> 1219\u001b[0;31m                 \u001b[0;32mraise\u001b[0m \u001b[0mKeyboardInterrupt\u001b[0m\u001b[0;34m(\u001b[0m\u001b[0;34m\"Interrupted by user\"\u001b[0m\u001b[0;34m)\u001b[0m \u001b[0;32mfrom\u001b[0m \u001b[0;32mNone\u001b[0m\u001b[0;34m\u001b[0m\u001b[0;34m\u001b[0m\u001b[0m\n\u001b[0m\u001b[1;32m   1220\u001b[0m             \u001b[0;32mexcept\u001b[0m \u001b[0mException\u001b[0m\u001b[0;34m:\u001b[0m\u001b[0;34m\u001b[0m\u001b[0;34m\u001b[0m\u001b[0m\n\u001b[1;32m   1221\u001b[0m                 \u001b[0mself\u001b[0m\u001b[0;34m.\u001b[0m\u001b[0mlog\u001b[0m\u001b[0;34m.\u001b[0m\u001b[0mwarning\u001b[0m\u001b[0;34m(\u001b[0m\u001b[0;34m\"Invalid Message:\"\u001b[0m\u001b[0;34m,\u001b[0m \u001b[0mexc_info\u001b[0m\u001b[0;34m=\u001b[0m\u001b[0;32mTrue\u001b[0m\u001b[0;34m)\u001b[0m\u001b[0;34m\u001b[0m\u001b[0;34m\u001b[0m\u001b[0m\n",
            "\u001b[0;31mKeyboardInterrupt\u001b[0m: Interrupted by user"
          ]
        }
      ]
    },
    {
      "cell_type": "code",
      "source": [
        "a = int(input(\"Digite primer numero\"))\n",
        "b = int(input(\"digite segund numero\"))\n",
        "\n",
        "print(\"Suma: \",a + b)\n",
        "print (\"El primero es mayor?:\", a>b)\n",
        "print (a>=0 and b>0)\n"
      ],
      "metadata": {
        "id": "RxVF1l7qRuJV"
      },
      "execution_count": null,
      "outputs": []
    },
    {
      "cell_type": "code",
      "source": [
        "from ast import mod\n",
        "a = int(input(\"Digite primer numero\"))\n",
        "\n",
        "\n",
        "if a>0 and a % 2==0 :\n",
        "  print (\"el numero es positivo y es par\")\n",
        "elif a<0 and a % 2==0:\n",
        "  print (\"el numero es negativo y es par\")\n",
        "elif a>0 and a % 2!=0:\n",
        "  print (\"el numero es positivo y es impar\")\n",
        "elif a<0 and a % 2!=0:\n",
        "  print (\"el numero es negativo y es impar\")\n",
        "else:\n",
        "  print (\"el numero 0\")\n",
        "\n"
      ],
      "metadata": {
        "id": "z2XSPqxtSH2Y"
      },
      "execution_count": null,
      "outputs": []
    },
    {
      "cell_type": "code",
      "source": [
        "a = 7\n",
        "\n",
        "for i in range(0,11):\n",
        "  print (a,\" x \",i,\" = \",a * i)\n",
        "password = 0\n",
        "\n",
        "while password != \"12345\":\n",
        "  password = input(print(\"Digite contraseña\"))"
      ],
      "metadata": {
        "collapsed": true,
        "id": "PmPcXE-9EPG8"
      },
      "execution_count": null,
      "outputs": []
    },
    {
      "cell_type": "code",
      "source": [
        "#Proyecto IMC#\n",
        "print(\"Bienvenido a la calculadora IMC\")\n",
        "sw = 1\n",
        "while sw == 1:\n",
        "  peso = float(input(print(\"Digite su peso\")))\n",
        "  altura = float(input(print(\"Digite su altura\")))\n",
        "  imc = peso / (altura**2)\n",
        "  print (\"Su IMC es: \",imc)\n",
        "  if imc < 18.5:\n",
        "    print (\"Peso bajo\")\n",
        "  elif imc > 18.5 and imc < 24.9:\n",
        "    print (\"Peso normal\")\n",
        "  elif imc > 25.0 and imc < 29.9:\n",
        "    print(\"Sobrepeso\")\n",
        "  else:\n",
        "    print(\"Obesidad\")\n",
        "  sw = int(input(\"Digite: \\n1 para continuar /\\n0 para salir \"))\n",
        "\n",
        "\n",
        "\n"
      ],
      "metadata": {
        "id": "8IubUixzaOy-"
      },
      "execution_count": null,
      "outputs": []
    },
    {
      "cell_type": "code",
      "source": [
        "##LISTAS\n",
        "\n",
        "data = [2,4,1,3,5,5]\n",
        "data.append([1,5])\n",
        "print(data)\n",
        "data.remove([1,5])\n",
        "print(data)\n",
        "maxi = max(data)\n",
        "mini = min(data)\n",
        "largo = len(data)\n",
        "tipo = type(data)\n",
        "print(\"Max: \",maxi,\" Mini: \",mini,\" len: \",largo , \" Tipo: \",tipo)\n",
        "#print(sorted(data))\n",
        "\n",
        "\n",
        "##### EJERCICIOS DE ARITMETICA\n",
        "suma = 0\n",
        "for i in data:\n",
        "  suma = suma + i\n",
        "print(\"La suma es:\", suma, \"\\n#########################################################\" )\n",
        "\n",
        "###MAXIMOS Y MINIMOS####\n",
        "mx = data[0]\n",
        "mi = data[0]\n",
        "for i in data:\n",
        "  if mi > i:\n",
        "    mi = i\n",
        "  elif mx < i:\n",
        "    mx = i\n",
        "\n",
        "print (\"El maximo es: \",mx,\" El minimo es: \",mi)\n"
      ],
      "metadata": {
        "id": "ca-yl1aggGpV",
        "colab": {
          "base_uri": "https://localhost:8080/"
        },
        "outputId": "900be40c-5ecb-4c9b-dd12-8123c6160194"
      },
      "execution_count": null,
      "outputs": [
        {
          "output_type": "stream",
          "name": "stdout",
          "text": [
            "[2, 4, 1, 3, 5, 5, [1, 5]]\n",
            "[2, 4, 1, 3, 5, 5]\n",
            "Max:  5  Mini:  1  len:  6  Tipo:  <class 'list'>\n",
            "La suma es: 20 \n",
            "#########################################################\n",
            "El maximo es:  5  El minimo es:  1\n"
          ]
        }
      ]
    },
    {
      "cell_type": "code",
      "source": [
        "\n",
        "##########DUPLICADOS LISTAS ######################\n",
        "\n",
        "\n",
        "\n",
        "##def duplicados(data):\n",
        "data_limpia=[]\n",
        "data_limpia.append(data[0])\n",
        "print(\"data: \", data)\n",
        "\n",
        "\n",
        "for i in data:\n",
        "  repetido = False\n",
        "  for j in data_limpia:\n",
        "    if i == j:\n",
        "      repetido = True\n",
        "      break\n",
        "  if repetido == False:\n",
        "      data_limpia.append(i)\n",
        "\n",
        "\n",
        "\n",
        "\n",
        "print(\"data Limpia: \", data_limpia)\n",
        "\n",
        " ## return data_limpia\n",
        "\n",
        "##duplicados(data)\n",
        "\n",
        "\n",
        "### forma mas rapida\n",
        "\n",
        "for x in data:\n",
        "  if x not in data_limpia:\n",
        "    data_limpia.append(x)\n",
        "\n",
        "print(\"data Limpia: \", data_limpia)\n",
        "print(\"Ultimo elemento de la lista\", data_limpia[-1:])\n",
        "\n",
        "try :\n",
        "  data.remove(5)\n",
        "except:\n",
        "  print(\"No se encontro el valor\")\n",
        "\n",
        "print(\"data nueva: \",data)\n",
        "print(sorted(data))\n",
        "print(\"Tres primeros elementos\", sorted(data[0:3]))"
      ],
      "metadata": {
        "id": "2Jvwzq1fGOtr",
        "colab": {
          "base_uri": "https://localhost:8080/"
        },
        "outputId": "f11e0ecf-0004-49bb-a6a7-d5f380c8c648"
      },
      "execution_count": null,
      "outputs": [
        {
          "output_type": "stream",
          "name": "stdout",
          "text": [
            "data:  [2, 4, 1, 3, 5, 5]\n",
            "data Limpia:  [2, 4, 1, 3, 5]\n",
            "data Limpia:  [2, 4, 1, 3, 5]\n",
            "Ultimo elemento de la lista [5]\n",
            "data nueva:  [2, 4, 1, 3, 5]\n",
            "[1, 2, 3, 4, 5]\n",
            "Tres primeros elementos [1, 2, 4]\n"
          ]
        }
      ]
    },
    {
      "cell_type": "code",
      "source": [
        "#####################INTERMEDIOS#######################\n",
        "orden = [\"Brian\", \"Liz\", \"Juan\",\"Sebas\"]\n",
        "\n",
        "print(orden[::-1])\n",
        "\n",
        "print(list(reversed(orden)))\n",
        "\n",
        "\n"
      ],
      "metadata": {
        "colab": {
          "base_uri": "https://localhost:8080/"
        },
        "id": "V2ONduRoXHgE",
        "outputId": "7ebfd64f-aa4d-47a5-d5be-48e2e2ee88b8"
      },
      "execution_count": null,
      "outputs": [
        {
          "output_type": "stream",
          "name": "stdout",
          "text": [
            "['Sebas', 'Juan', 'Liz', 'Brian']\n",
            "['Sebas', 'Juan', 'Liz', 'Brian']\n"
          ]
        }
      ]
    },
    {
      "cell_type": "code",
      "source": [
        "##################AVANZADOS###########################\n",
        "\n",
        "numeros = list(range(1,51))\n",
        "primos = []\n",
        "print(numeros)\n",
        "cont = 0\n",
        "\n",
        "\n",
        "for i in numeros:\n",
        "  iterador = list(range(1,i+1))\n",
        "  ##print(iterador)\n",
        "  cont = 0\n",
        "  for j in iterador:\n",
        "    if (i % j == 0):\n",
        "      cont = cont + 1\n",
        "\n",
        "  if(cont == 2):\n",
        "      primos.append(i)\n",
        "\n",
        "print(primos)\n",
        "\n",
        "\n",
        "\n",
        "\n",
        "primos2 = [n for n in numeros if n > 1 and all(n % i != 0 for i in range(2, int(n**0.5)+1))]\n",
        "print(primos2)\n",
        "\n",
        "print((2**0.5)+1)"
      ],
      "metadata": {
        "colab": {
          "base_uri": "https://localhost:8080/"
        },
        "id": "-xTz7ju3NKr3",
        "outputId": "0be708e3-0d4a-407c-cd10-b6a569319196"
      },
      "execution_count": null,
      "outputs": [
        {
          "output_type": "stream",
          "name": "stdout",
          "text": [
            "[1, 2, 3, 4, 5, 6, 7, 8, 9, 10, 11, 12, 13, 14, 15, 16, 17, 18, 19, 20, 21, 22, 23, 24, 25, 26, 27, 28, 29, 30, 31, 32, 33, 34, 35, 36, 37, 38, 39, 40, 41, 42, 43, 44, 45, 46, 47, 48, 49, 50]\n",
            "[2, 3, 5, 7, 11, 13, 17, 19, 23, 29, 31, 37, 41, 43, 47]\n",
            "[2, 3, 5, 7, 11, 13, 17, 19, 23, 29, 31, 37, 41, 43, 47]\n",
            "2.414213562373095\n"
          ]
        }
      ]
    },
    {
      "cell_type": "code",
      "source": [
        "#########PALINDROMES##################\n",
        "palabras = [\"oso\",\"casa\",\"radar\",\"sol\",\"reconocer\"]\n",
        "palindromo = []\n",
        "for i in palabras:\n",
        "  if i == i[::-1]:\n",
        "    palindromo.append(i)\n",
        "print(palindromo)\n",
        "\n",
        "palabras = [\"oso\", \"casa\", \"radar\", \"sol\", \"reconocer\"]\n",
        "palindromos = [p for p in palabras if p == p[::-1]]\n",
        "print(palindromos)"
      ],
      "metadata": {
        "colab": {
          "base_uri": "https://localhost:8080/"
        },
        "id": "updRjbbHh7y2",
        "outputId": "e9a91f1b-e537-404b-ad15-ca20cec08607"
      },
      "execution_count": null,
      "outputs": [
        {
          "output_type": "stream",
          "name": "stdout",
          "text": [
            "['oso', 'radar', 'reconocer']\n",
            "['oso', 'radar', 'reconocer']\n"
          ]
        }
      ]
    },
    {
      "cell_type": "code",
      "source": [
        "################MATRICES##############################\n",
        "matriz = []\n",
        "filas = 3\n",
        "cols = 3\n",
        "cont = 1\n",
        "for i in range(filas):\n",
        "  fila=[]\n",
        "  for j in range(cols):\n",
        "    fila.append(cont)\n",
        "    cont = cont + 1\n",
        "  matriz.append(fila)\n",
        "print(matriz)"
      ],
      "metadata": {
        "colab": {
          "base_uri": "https://localhost:8080/"
        },
        "id": "VUSN0_YulYjO",
        "outputId": "f6312d22-470d-4180-8071-4f55cb52b599"
      },
      "execution_count": null,
      "outputs": [
        {
          "output_type": "stream",
          "name": "stdout",
          "text": [
            "[[1, 2, 3], [4, 5, 6], [7, 8, 9]]\n"
          ]
        }
      ]
    },
    {
      "cell_type": "code",
      "source": [],
      "metadata": {
        "id": "v8LVAJwZlexO"
      },
      "execution_count": null,
      "outputs": []
    }
  ]
}