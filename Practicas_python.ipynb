{
  "nbformat": 4,
  "nbformat_minor": 0,
  "metadata": {
    "colab": {
      "provenance": [],
      "authorship_tag": "ABX9TyN8VW2pb94WcFsLsGYHxHNk",
      "include_colab_link": true
    },
    "kernelspec": {
      "name": "python3",
      "display_name": "Python 3"
    },
    "language_info": {
      "name": "python"
    }
  },
  "cells": [
    {
      "cell_type": "markdown",
      "metadata": {
        "id": "view-in-github",
        "colab_type": "text"
      },
      "source": [
        "<a href=\"https://colab.research.google.com/github/Brianc88/Python-repaso/blob/main/Practicas_python.ipynb\" target=\"_parent\"><img src=\"https://colab.research.google.com/assets/colab-badge.svg\" alt=\"Open In Colab\"/></a>"
      ]
    },
    {
      "cell_type": "code",
      "execution_count": null,
      "metadata": {
        "colab": {
          "base_uri": "https://localhost:8080/"
        },
        "id": "iq5-vDE7QZ2V",
        "outputId": "cbbcd913-9e53-439a-deb1-8e77d932ce15"
      },
      "outputs": [
        {
          "output_type": "stream",
          "name": "stdout",
          "text": [
            "Hola mundo\n",
            "Nombre:  Brian Edad: 36 Altura: 12.8 Estado False\n"
          ]
        }
      ],
      "source": [
        "print (\"Hola mundo\")\n",
        "\n",
        "nombre = \"Brian\"\n",
        "edad = 36\n",
        "altura  = 12.80\n",
        "es_estudiante = False\n",
        "\n",
        "print (\"Nombre: \",nombre, \"Edad:\", edad, \"Altura:\", altura,\"Estado\", es_estudiante )"
      ]
    },
    {
      "cell_type": "code",
      "source": [
        "nombre = input(\"Digite su nombre\")\n",
        "edad = input(\"Digite su edad\")\n",
        "print (\"Nombre: \",nombre, \"Edad:\", edad)"
      ],
      "metadata": {
        "colab": {
          "base_uri": "https://localhost:8080/"
        },
        "id": "LwZnfKs4Rhbk",
        "outputId": "42a9f124-6904-4afc-f1db-9a8f2e48eccb"
      },
      "execution_count": null,
      "outputs": [
        {
          "output_type": "stream",
          "name": "stdout",
          "text": [
            "Digite su nombreBrian\n",
            "Digite su edad36\n",
            "Nombre:  Brian Edad: 36\n"
          ]
        }
      ]
    },
    {
      "cell_type": "code",
      "source": [
        "a = int(input(\"Digite primer numero\"))\n",
        "b = int(input(\"digite segund numero\"))\n",
        "\n",
        "print(\"Suma: \",a + b)\n",
        "print (\"El primero es mayor?:\", a>b)\n",
        "print (a>=0 and b>0)\n"
      ],
      "metadata": {
        "colab": {
          "base_uri": "https://localhost:8080/"
        },
        "id": "RxVF1l7qRuJV",
        "outputId": "12be18cd-5387-456c-a589-47669edf9736"
      },
      "execution_count": null,
      "outputs": [
        {
          "output_type": "stream",
          "name": "stdout",
          "text": [
            "Digite primer numero6\n",
            "digite segund numero2\n",
            "Suma:  8\n",
            "El primero es mayor?: True\n",
            "True\n"
          ]
        }
      ]
    },
    {
      "cell_type": "code",
      "source": [
        "from ast import mod\n",
        "a = int(input(\"Digite primer numero\"))\n",
        "\n",
        "\n",
        "if a>0 and a % 2==0 :\n",
        "  print (\"el numero es positivo y es par\")\n",
        "elif a<0 and a % 2==0:\n",
        "  print (\"el numero es negativo y es par\")\n",
        "elif a>0 and a % 2!=0:\n",
        "  print (\"el numero es positivo y es impar\")\n",
        "elif a<0 and a % 2!=0:\n",
        "  print (\"el numero es negativo y es impar\")\n",
        "else:\n",
        "  print (\"el numero 0\")\n",
        "\n"
      ],
      "metadata": {
        "colab": {
          "base_uri": "https://localhost:8080/"
        },
        "id": "z2XSPqxtSH2Y",
        "outputId": "c9f5b64f-26fa-40e9-d577-0519d214e4f4"
      },
      "execution_count": null,
      "outputs": [
        {
          "output_type": "stream",
          "name": "stdout",
          "text": [
            "Digite primer numero6\n",
            "el numero es positivo y es par\n"
          ]
        }
      ]
    },
    {
      "cell_type": "code",
      "source": [
        "a = 7\n",
        "\n",
        "for i in range(0,11):\n",
        "  print (a,\" x \",i,\" = \",a * i)\n",
        "password = 0\n",
        "\n",
        "while password != \"12345\":\n",
        "  password = input(print(\"Digite contraseña\"))"
      ],
      "metadata": {
        "colab": {
          "base_uri": "https://localhost:8080/",
          "height": 530
        },
        "collapsed": true,
        "id": "PmPcXE-9EPG8",
        "outputId": "b0ed604d-b641-42bc-cdba-1dd739dbf467"
      },
      "execution_count": null,
      "outputs": [
        {
          "output_type": "stream",
          "name": "stdout",
          "text": [
            "7  x  0  =  0\n",
            "7  x  1  =  7\n",
            "7  x  2  =  14\n",
            "7  x  3  =  21\n",
            "7  x  4  =  28\n",
            "7  x  5  =  35\n",
            "7  x  6  =  42\n",
            "7  x  7  =  49\n",
            "7  x  8  =  56\n",
            "7  x  9  =  63\n",
            "7  x  10  =  70\n",
            "Digite contraseña\n"
          ]
        },
        {
          "output_type": "error",
          "ename": "KeyboardInterrupt",
          "evalue": "Interrupted by user",
          "traceback": [
            "\u001b[0;31m---------------------------------------------------------------------------\u001b[0m",
            "\u001b[0;31mKeyboardInterrupt\u001b[0m                         Traceback (most recent call last)",
            "\u001b[0;32m/tmp/ipython-input-4268457289.py\u001b[0m in \u001b[0;36m<cell line: 0>\u001b[0;34m()\u001b[0m\n\u001b[1;32m      6\u001b[0m \u001b[0;34m\u001b[0m\u001b[0m\n\u001b[1;32m      7\u001b[0m \u001b[0;32mwhile\u001b[0m \u001b[0mpassword\u001b[0m \u001b[0;34m!=\u001b[0m \u001b[0;34m\"12345\"\u001b[0m\u001b[0;34m:\u001b[0m\u001b[0;34m\u001b[0m\u001b[0;34m\u001b[0m\u001b[0m\n\u001b[0;32m----> 8\u001b[0;31m   \u001b[0mpassword\u001b[0m \u001b[0;34m=\u001b[0m \u001b[0minput\u001b[0m\u001b[0;34m(\u001b[0m\u001b[0mprint\u001b[0m\u001b[0;34m(\u001b[0m\u001b[0;34m\"Digite contraseña\"\u001b[0m\u001b[0;34m)\u001b[0m\u001b[0;34m)\u001b[0m\u001b[0;34m\u001b[0m\u001b[0;34m\u001b[0m\u001b[0m\n\u001b[0m",
            "\u001b[0;32m/usr/local/lib/python3.11/dist-packages/ipykernel/kernelbase.py\u001b[0m in \u001b[0;36mraw_input\u001b[0;34m(self, prompt)\u001b[0m\n\u001b[1;32m   1175\u001b[0m                 \u001b[0;34m\"raw_input was called, but this frontend does not support input requests.\"\u001b[0m\u001b[0;34m\u001b[0m\u001b[0;34m\u001b[0m\u001b[0m\n\u001b[1;32m   1176\u001b[0m             )\n\u001b[0;32m-> 1177\u001b[0;31m         return self._input_request(\n\u001b[0m\u001b[1;32m   1178\u001b[0m             \u001b[0mstr\u001b[0m\u001b[0;34m(\u001b[0m\u001b[0mprompt\u001b[0m\u001b[0;34m)\u001b[0m\u001b[0;34m,\u001b[0m\u001b[0;34m\u001b[0m\u001b[0;34m\u001b[0m\u001b[0m\n\u001b[1;32m   1179\u001b[0m             \u001b[0mself\u001b[0m\u001b[0;34m.\u001b[0m\u001b[0m_parent_ident\u001b[0m\u001b[0;34m[\u001b[0m\u001b[0;34m\"shell\"\u001b[0m\u001b[0;34m]\u001b[0m\u001b[0;34m,\u001b[0m\u001b[0;34m\u001b[0m\u001b[0;34m\u001b[0m\u001b[0m\n",
            "\u001b[0;32m/usr/local/lib/python3.11/dist-packages/ipykernel/kernelbase.py\u001b[0m in \u001b[0;36m_input_request\u001b[0;34m(self, prompt, ident, parent, password)\u001b[0m\n\u001b[1;32m   1217\u001b[0m             \u001b[0;32mexcept\u001b[0m \u001b[0mKeyboardInterrupt\u001b[0m\u001b[0;34m:\u001b[0m\u001b[0;34m\u001b[0m\u001b[0;34m\u001b[0m\u001b[0m\n\u001b[1;32m   1218\u001b[0m                 \u001b[0;31m# re-raise KeyboardInterrupt, to truncate traceback\u001b[0m\u001b[0;34m\u001b[0m\u001b[0;34m\u001b[0m\u001b[0m\n\u001b[0;32m-> 1219\u001b[0;31m                 \u001b[0;32mraise\u001b[0m \u001b[0mKeyboardInterrupt\u001b[0m\u001b[0;34m(\u001b[0m\u001b[0;34m\"Interrupted by user\"\u001b[0m\u001b[0;34m)\u001b[0m \u001b[0;32mfrom\u001b[0m \u001b[0;32mNone\u001b[0m\u001b[0;34m\u001b[0m\u001b[0;34m\u001b[0m\u001b[0m\n\u001b[0m\u001b[1;32m   1220\u001b[0m             \u001b[0;32mexcept\u001b[0m \u001b[0mException\u001b[0m\u001b[0;34m:\u001b[0m\u001b[0;34m\u001b[0m\u001b[0;34m\u001b[0m\u001b[0m\n\u001b[1;32m   1221\u001b[0m                 \u001b[0mself\u001b[0m\u001b[0;34m.\u001b[0m\u001b[0mlog\u001b[0m\u001b[0;34m.\u001b[0m\u001b[0mwarning\u001b[0m\u001b[0;34m(\u001b[0m\u001b[0;34m\"Invalid Message:\"\u001b[0m\u001b[0;34m,\u001b[0m \u001b[0mexc_info\u001b[0m\u001b[0;34m=\u001b[0m\u001b[0;32mTrue\u001b[0m\u001b[0;34m)\u001b[0m\u001b[0;34m\u001b[0m\u001b[0;34m\u001b[0m\u001b[0m\n",
            "\u001b[0;31mKeyboardInterrupt\u001b[0m: Interrupted by user"
          ]
        }
      ]
    },
    {
      "cell_type": "code",
      "source": [
        "#Proyecto IMC#\n",
        "print(\"Bienvenido a la calculadora IMC\")\n",
        "sw = 1\n",
        "while sw == 1:\n",
        "  peso = float(input(print(\"Digite su peso\")))\n",
        "  altura = float(input(print(\"Digite su altura\")))\n",
        "  imc = peso / (altura**2)\n",
        "  print (\"Su IMC es: \",imc)\n",
        "  if imc < 18.5:\n",
        "    print (\"Peso bajo\")\n",
        "  elif imc > 18.5 and imc < 24.9:\n",
        "    print (\"Peso normal\")\n",
        "  elif imc > 25.0 and imc < 29.9:\n",
        "    print(\"Sobrepeso\")\n",
        "  else:\n",
        "    print(\"Obesidad\")\n",
        "  sw = int(input(\"Digite: \\n1 para continuar /\\n0 para salir \"))\n",
        "\n",
        "\n",
        "\n"
      ],
      "metadata": {
        "colab": {
          "base_uri": "https://localhost:8080/"
        },
        "id": "8IubUixzaOy-",
        "outputId": "6307d368-b7b7-4f7c-9bfc-c760a0a4322a"
      },
      "execution_count": null,
      "outputs": [
        {
          "name": "stdout",
          "output_type": "stream",
          "text": [
            "Bienvenido a la calculadora IMC\n",
            "Digite su peso\n",
            "None85\n",
            "Digite su altura\n",
            "None1.80\n",
            "Su IMC es:  26.234567901234566\n",
            "Sobrepeso\n",
            "Digite: \n",
            "1 para continuar /\n",
            "0 para salir 1\n",
            "Digite su peso\n",
            "None86\n",
            "Digite su altura\n",
            "None1.80\n",
            "Su IMC es:  26.54320987654321\n",
            "Sobrepeso\n",
            "Digite: \n",
            "1 para continuar /\n",
            "0 para salir 0\n"
          ]
        }
      ]
    },
    {
      "cell_type": "code",
      "source": [],
      "metadata": {
        "id": "ca-yl1aggGpV"
      },
      "execution_count": null,
      "outputs": []
    }
  ]
}